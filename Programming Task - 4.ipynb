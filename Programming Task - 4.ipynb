{
 "cells": [
  {
   "cell_type": "markdown",
   "id": "a9af35bc",
   "metadata": {},
   "source": [
    "# Problem 1 :\n",
    "\n",
    "**What's your name ?**"
   ]
  },
  {
   "cell_type": "code",
   "execution_count": null,
   "id": "ec654428",
   "metadata": {},
   "outputs": [],
   "source": [
    "def print_full_name(first, last):\n",
    "    print(f\"Hello {first} {last}! You just delved into python.\")\n",
    "\n",
    "\n",
    "first_name = input()\n",
    "last_name = input()\n",
    "print_full_name(first_name, last_name)"
   ]
  },
  {
   "cell_type": "markdown",
   "id": "073eb0de",
   "metadata": {},
   "source": [
    "# Problem 2 :\n",
    "\n",
    "**Swap Case**"
   ]
  },
  {
   "cell_type": "code",
   "execution_count": null,
   "id": "d5d620ff",
   "metadata": {},
   "outputs": [],
   "source": [
    "def swap_case(s):\n",
    "    s = [ch.upper() if ch.islower() else ch.lower() for ch in s]\n",
    "    return \"\".join(s)\n",
    "\n",
    "s = input()\n",
    "result = swap_case(s)\n",
    "print(result)"
   ]
  },
  {
   "cell_type": "markdown",
   "id": "f8d3d7e1",
   "metadata": {},
   "source": [
    "# Problem 3 :\n",
    "\n",
    "**Sring Split and Join** "
   ]
  },
  {
   "cell_type": "code",
   "execution_count": null,
   "id": "75df056f",
   "metadata": {},
   "outputs": [],
   "source": [
    "def split_and_join(line):\n",
    "    line = line.split(' ')\n",
    "    line = '-'.join(line)\n",
    "    return line\n",
    "\n",
    "\n",
    "line = input()\n",
    "result = split_and_join(line)\n",
    "print(result)"
   ]
  },
  {
   "cell_type": "markdown",
   "id": "eb4a57c4",
   "metadata": {},
   "source": [
    "# Problem 4 :\n",
    "\n",
    "**Mutations**"
   ]
  },
  {
   "cell_type": "code",
   "execution_count": null,
   "id": "01718f03",
   "metadata": {},
   "outputs": [],
   "source": [
    "def mutate_string(string, position, character):\n",
    "    return string[:position] + character + string[position+1:]\n",
    "\n",
    "s = input()\n",
    "i, c = input().split()\n",
    "s_new = mutate_string(s, int(i), c)\n",
    "print(s_new)"
   ]
  },
  {
   "cell_type": "markdown",
   "id": "ec60d1fc",
   "metadata": {},
   "source": [
    "# Problem 5 :\n",
    "\n",
    "**Find a string**"
   ]
  },
  {
   "cell_type": "code",
   "execution_count": null,
   "id": "cfc65b85",
   "metadata": {},
   "outputs": [],
   "source": [
    "def count_substring(string, sub_string):\n",
    "    count = 0\n",
    "    for i in range(0, len(string)):\n",
    "        if string.find(sub_string, i) == i: \n",
    "            count += 1\n",
    "    return count\n",
    "\n",
    "\n",
    "string = input().strip()\n",
    "sub_string = input().strip()\n",
    "    \n",
    "count = count_substring(string, sub_string)\n",
    "print(count)"
   ]
  },
  {
   "cell_type": "markdown",
   "id": "29d2950c",
   "metadata": {},
   "source": [
    "# Problem 5 :\n",
    "\n",
    "**Sring Validators**"
   ]
  },
  {
   "cell_type": "code",
   "execution_count": null,
   "id": "5055006b",
   "metadata": {},
   "outputs": [],
   "source": [
    "s = input()\n",
    "print(any(i.isalnum() for i in s))\n",
    "print(any(i.isalpha() for i in s))\n",
    "print(any(i.isdigit() for i in s))\n",
    "print(any(i.islower() for i in s))\n",
    "print(any(i.isupper() for i in s))"
   ]
  },
  {
   "cell_type": "markdown",
   "id": "3994cdd2",
   "metadata": {},
   "source": [
    "# Problem 6 :\n",
    "\n",
    "**Text Alignment**"
   ]
  },
  {
   "cell_type": "code",
   "execution_count": null,
   "id": "ec850320",
   "metadata": {},
   "outputs": [],
   "source": [
    "#Replace all ______ with rjust, ljust or center. \n",
    "\n",
    "thickness = int(input()) #This must be an odd number\n",
    "c = 'H'\n",
    "\n",
    "#Top Cone\n",
    "for i in range(thickness):\n",
    "    print((c*i).rjust(thickness-1)+c+(c*i).ljust(thickness-1))\n",
    "\n",
    "#Top Pillars\n",
    "for i in range(thickness+1):\n",
    "    print((c*thickness).center(thickness*2)+(c*thickness).center(thickness*6))\n",
    "\n",
    "#Middle Belt\n",
    "for i in range((thickness+1)//2):\n",
    "    print((c*thickness*5).center(thickness*6))    \n",
    "\n",
    "#Bottom Pillars\n",
    "for i in range(thickness+1):\n",
    "    print((c*thickness).center(thickness*2)+(c*thickness).center(thickness*6))    \n",
    "\n",
    "#Bottom Cone\n",
    "for i in range(thickness):\n",
    "    print(((c*(thickness-i-1)).rjust(thickness)+c+(c*(thickness-i-1)).ljust(thickness)).rjust(thickness*6))"
   ]
  },
  {
   "cell_type": "markdown",
   "id": "8a2b71dc",
   "metadata": {},
   "source": [
    "# Problem 7 :\n",
    "\n",
    "**Text Wrap**"
   ]
  },
  {
   "cell_type": "code",
   "execution_count": null,
   "id": "114af77c",
   "metadata": {},
   "outputs": [],
   "source": [
    "import textwrap\n",
    "\n",
    "def wrap(string, max_width):\n",
    "    return textwrap.fill(string,max_width)\n",
    "\n",
    "\n",
    "string, max_width = input(), int(input())\n",
    "result = wrap(string, max_width)\n",
    "print(result)"
   ]
  },
  {
   "cell_type": "markdown",
   "id": "d513eb07",
   "metadata": {},
   "source": [
    "# Problem 8 :\n",
    "\n",
    "**String Formatting**"
   ]
  },
  {
   "cell_type": "code",
   "execution_count": null,
   "id": "c1d73e28",
   "metadata": {},
   "outputs": [],
   "source": [
    "def print_formatted(number):\n",
    "    maximum = len(str(bin(number)[2:]))\n",
    "    \n",
    "    def format_string(item):\n",
    "        return str(item).upper().rjust(maximum,\" \")\n",
    "        \n",
    "    for i in range(1,number+1):\n",
    "        num = format_string(i)\n",
    "        octo = format_string(oct(i)[2:])\n",
    "        hexo = format_string(hex(i)[2:])\n",
    "        bino = format_string(bin(i)[2:])\n",
    "        print(f\"{num} {octo} {hexo} {bino}\")\n",
    "\n",
    "\n",
    "if __name__ == '__main__':\n",
    "    n = int(input())\n",
    "    print_formatted(n)"
   ]
  },
  {
   "cell_type": "markdown",
   "id": "a1bd714e",
   "metadata": {},
   "source": [
    "# Problem 9 :\n",
    "\n",
    "**Capitalize**"
   ]
  },
  {
   "cell_type": "code",
   "execution_count": null,
   "id": "baaa8f5e",
   "metadata": {},
   "outputs": [],
   "source": [
    "import math\n",
    "import os\n",
    "import random\n",
    "import re\n",
    "import sys\n",
    "\n",
    "# Complete the solve function below.\n",
    "def solve(s):\n",
    "    c= \"\"\n",
    "    for i in range(0,len(s)):\n",
    "        if i == 0:\n",
    "            c = c + (s[i].upper())\n",
    "        elif s[i-1] == \" \":\n",
    "            c = c + (s[i].upper())\n",
    "        else:\n",
    "            c = c + s[i]\n",
    "    return c\n",
    "    \n",
    "\n",
    "if __name__ == '__main__':\n",
    "    fptr = open(os.environ['OUTPUT_PATH'], 'w')\n",
    "\n",
    "    s = input()\n",
    "\n",
    "    result = solve(s)\n",
    "\n",
    "    fptr.write(result + '\\n')\n",
    "\n",
    "    fptr.close()"
   ]
  },
  {
   "cell_type": "markdown",
   "id": "fc716094",
   "metadata": {},
   "source": [
    "# Problem 10 :\n",
    "\n",
    "**The Minion Game**"
   ]
  },
  {
   "cell_type": "code",
   "execution_count": null,
   "id": "ec0325c4",
   "metadata": {},
   "outputs": [],
   "source": [
    "def minion_game(string):\n",
    "    # your code goes here\n",
    "    vowel=\"AOEUI\"\n",
    "    vowCounter=0\n",
    "    conCounter=0\n",
    "    i=0\n",
    "    while i < len(string):\n",
    "        \n",
    "        if  string[i] in vowel :\n",
    "            vowCounter+=len(string)-i\n",
    "        else:\n",
    "            conCounter+=len(string)-i\n",
    "        i+=1\n",
    "    \n",
    "    if vowCounter>conCounter:\n",
    "        print (\"Kevin\",vowCounter)\n",
    "    elif vowCounter<conCounter :\n",
    "        print (\"Stuart\",conCounter)\n",
    "    else :\n",
    "         print(\"Draw\")\n",
    "\n",
    "if __name__ == '__main__':\n",
    "    s = input()\n",
    "    minion_game(s)"
   ]
  },
  {
   "cell_type": "markdown",
   "id": "6406a174",
   "metadata": {},
   "source": [
    "# Problem 11 :\n",
    "\n",
    "**Merge the tools**"
   ]
  },
  {
   "cell_type": "code",
   "execution_count": null,
   "id": "7ffebc62",
   "metadata": {},
   "outputs": [],
   "source": [
    "def merge_the_tools(string, k):\n",
    "    for i in range(0,len(string),k):\n",
    "        str2=\"\"\n",
    "        for j in range(i,i+k):\n",
    "            if string[j] not in str2:\n",
    "                str2=str2+string[j]\n",
    "        print(str2)\n",
    "\n",
    "\n",
    "\n",
    "if __name__ == '__main__':\n",
    "    string, k = input(), int(input())\n",
    "    merge_the_tools(string, k)"
   ]
  }
 ],
 "metadata": {
  "kernelspec": {
   "display_name": "Python 3 (ipykernel)",
   "language": "python",
   "name": "python3"
  },
  "language_info": {
   "codemirror_mode": {
    "name": "ipython",
    "version": 3
   },
   "file_extension": ".py",
   "mimetype": "text/x-python",
   "name": "python",
   "nbconvert_exporter": "python",
   "pygments_lexer": "ipython3",
   "version": "3.9.13"
  }
 },
 "nbformat": 4,
 "nbformat_minor": 5
}
